{
 "cells": [
  {
   "cell_type": "code",
   "execution_count": 1,
   "metadata": {},
   "outputs": [],
   "source": [
    "import requests\n",
    "from bs4 import BeautifulSoup\n",
    "\n",
    "url = requests.get('https://spotcrime.com/map?lat=40.4515719&lon=-79.9526772')\n",
    "\n",
    "# find the button <button id=\"map-page__crime-list__view-btn\">View Crime</button> and click it\n",
    "# find the table <table id=\"map-page__crime-list__table\"> and get the data\n",
    "# print the data\n",
    "\n",
    "from selenium import webdriver\n",
    "from selenium.webdriver.common.by import By\n",
    "import time\n",
    "\n",
    "# 使用 Selenium 启动浏览器 (例如 Chrome)\n",
    "driver = webdriver.Chrome()  # 需要安装 ChromeDriver\n",
    "\n",
    "# 获取 URL\n",
    "driver.get('https://spotcrime.com/map?lat=40.4515719&lon=-79.9526772')  # 替换为你的目标网址\n",
    "\n",
    "# 查找按钮并点击\n",
    "button = driver.find_element(By.ID, 'map-page__crime-list__view-btn')\n",
    "time.sleep(10)"
   ]
  },
  {
   "cell_type": "code",
   "execution_count": 2,
   "metadata": {},
   "outputs": [],
   "source": [
    "driver.execute_script(\"arguments[0].scrollIntoView(true);\", button)\n",
    "\n",
    "button.click()"
   ]
  },
  {
   "cell_type": "code",
   "execution_count": 40,
   "metadata": {},
   "outputs": [],
   "source": [
    "# 提取 tag_name 为 'a' 的元素中的 href 属性\n",
    "ele = driver.find_elements(By.TAG_NAME, 'a')\n",
    "all_crime_url = []\n",
    "for e in ele:\n",
    "    if \"https://spotcrime.com/crime/\" in e.get_attribute('href'):\n",
    "        all_crime_url.append(e.get_attribute('href'))"
   ]
  },
  {
   "cell_type": "code",
   "execution_count": 43,
   "metadata": {},
   "outputs": [
    {
     "data": {
      "text/plain": [
       "['https://spotcrime.com/crime/243593363-796ec58bb53672fe97b7ddf11aa760d6',\n",
       " 'https://spotcrime.com/crime/243592966-789b8d5da354455b2388f796816451be',\n",
       " 'https://spotcrime.com/crime/243545952-9f50875827f38e04ebe74f45e3e7d8a1',\n",
       " 'https://spotcrime.com/crime/243547445-a12f3cc074e660d320b4d75c87ae8fb4',\n",
       " 'https://spotcrime.com/crime/243499261-7f9228581edf6996f106f19077119744',\n",
       " 'https://spotcrime.com/crime/243445648-6be4c5eb476e4d4850a1a75d3d1f8d81',\n",
       " 'https://spotcrime.com/crime/243445293-755675556a57d8edcd8457a3f01fb50b',\n",
       " 'https://spotcrime.com/crime/243445685-c53cf24481317f8ec58f73d25bd558cc',\n",
       " 'https://spotcrime.com/crime/243445664-02a4cd8764ab6da68d3966df3c2f29d0',\n",
       " 'https://spotcrime.com/crime/243445663-d1f8a7a4d81773869fc07474b5a288e9',\n",
       " 'https://spotcrime.com/crime/243445662-e9c6295b6e617ad90ae3c88505ed5898',\n",
       " 'https://spotcrime.com/crime/243445682-5f4b36e03327c7ecf28c510d26762372',\n",
       " 'https://spotcrime.com/crime/243445284-3180524ea9fe666eb415347ab96f8bff',\n",
       " 'https://spotcrime.com/crime/243445637-ee5096d5c888d6d3299cd76030bfd6df',\n",
       " 'https://spotcrime.com/crime/243445675-4d9e9673257a627aae686e52269cf6f2',\n",
       " 'https://spotcrime.com/crime/243445636-d33343862eb2fe0e243c2cc0f2dbd0e7',\n",
       " 'https://spotcrime.com/crime/243499285-4ae715e2ebe2c958b02390e513efa234',\n",
       " 'https://spotcrime.com/crime/243386345-3e6ed030bba272046b0fb2ddf129b8a6',\n",
       " 'https://spotcrime.com/crime/243445279-2a40eb8e4a95deb6feb418356c33dfa9',\n",
       " 'https://spotcrime.com/crime/243386339-9f206acefc58b0bc52f0f393a20418eb',\n",
       " 'https://spotcrime.com/crime/243386316-daaaffd324141121549ed5dfe6020740',\n",
       " 'https://spotcrime.com/crime/243386302-0b63caa384c8e465e62d4be086e13743',\n",
       " 'https://spotcrime.com/crime/243386289-039236afdb1bfb332dac876e8315df8b',\n",
       " 'https://spotcrime.com/crime/243325308-fe857126c920adbbea191e08ecbbdd09',\n",
       " 'https://spotcrime.com/crime/243326136-5711aca5463422a30c8c8bec6741f216',\n",
       " 'https://spotcrime.com/crime/243326134-3214de8c002565c3d245363f816c9f2d',\n",
       " 'https://spotcrime.com/crime/243326133-a574f636f429f93213b82c447b355493',\n",
       " 'https://spotcrime.com/crime/243325275-99f625e08779997026a628d4df50f6b7',\n",
       " 'https://spotcrime.com/crime/243326131-573583dca4689e33788f539ecb859ccc',\n",
       " 'https://spotcrime.com/crime/243325271-076c9d662e5d8725adc2a11e53fbe072',\n",
       " 'https://spotcrime.com/crime/243326124-c981ffbeaf3b8789d2961aacc0afa8c7',\n",
       " 'https://spotcrime.com/crime/243248434-69cca263c504e9106e2ee242ccd78554',\n",
       " 'https://spotcrime.com/crime/243326249-f1b619657357fcf3aa5937781ef7b71e',\n",
       " 'https://spotcrime.com/crime/243326247-d24a45d03d02c6288dc4d99e18ad013f',\n",
       " 'https://spotcrime.com/crime/243326245-9932b9046790754aba1126847f60b2e5',\n",
       " 'https://spotcrime.com/crime/243326244-849c373f749aa0730aff4e04e88b3350',\n",
       " 'https://spotcrime.com/crime/243213536-70e423d889c5108a65a94fdb8a0fc8d3',\n",
       " 'https://spotcrime.com/crime/243213477-3272d5cdad37094dc82566653fedffdf',\n",
       " 'https://spotcrime.com/crime/243213640-a9042c133fd08aee353b5be2a8ea2f54',\n",
       " 'https://spotcrime.com/crime/243213527-55693af24b101ddfffe78a452c3abe53',\n",
       " 'https://spotcrime.com/crime/243213476-5aa68750b9fef5f31ff4811861f2a108',\n",
       " 'https://spotcrime.com/crime/243169132-e549b5434732dbec813efb597060387d',\n",
       " 'https://spotcrime.com/crime/243169130-410c335b6e79f832a916a22467c81308',\n",
       " 'https://spotcrime.com/crime/243169121-243e8152582bec194c5671f70c4d0f30',\n",
       " 'https://spotcrime.com/crime/243111361-7af27655b2a18ca12304adbfe880c7ad',\n",
       " 'https://spotcrime.com/crime/243111410-de8051909e001613935bd7813bc7fdf6',\n",
       " 'https://spotcrime.com/crime/243046793-f5e9ca9191115ed7f64760caf9a04537',\n",
       " 'https://spotcrime.com/crime/243111824-75a6310805a6baf0a8262aaeb795380b',\n",
       " 'https://spotcrime.com/crime/243045912-bb2b1d4361231265c459c64e7e66d3c8',\n",
       " 'https://spotcrime.com/crime/243046725-f292fce6c9cce6fe7f1fcf814f331e74']"
      ]
     },
     "execution_count": 43,
     "metadata": {},
     "output_type": "execute_result"
    }
   ],
   "source": [
    "all_crime_url"
   ]
  },
  {
   "cell_type": "code",
   "execution_count": 52,
   "metadata": {},
   "outputs": [],
   "source": [
    "# For each crime URL, use beautiful to extract the data\n",
    "# extract title\n",
    "crime_info = []\n",
    "for url in all_crime_url:\n",
    "    crime_url = requests.get(url)\n",
    "    soup = BeautifulSoup(crime_url.content, 'html.parser')\n",
    "    all_p = soup.find_all('p')\n",
    "    try:\n",
    "        crime_info.append([all_p[0].text.split(\": \")[1], all_p[1].text.split(\": \")[1], all_p[2].text.split(\": \")[1], all_p[3].text.split(\": \")[1]])\n",
    "    except:\n",
    "        pass\n"
   ]
  },
  {
   "cell_type": "code",
   "execution_count": 61,
   "metadata": {},
   "outputs": [],
   "source": [
    "# save the data to a csv file(new file)\n",
    "import csv\n",
    "\n",
    "with open('../Crime_uptodate/lat=40.4515719&lon=-79.9526772.csv', 'w') as f:\n",
    "    writer = csv.writer(f)\n",
    "    writer.writerow(['Type', 'Date', 'Description', 'Address'])\n",
    "    writer.writerows(crime_info)"
   ]
  }
 ],
 "metadata": {
  "kernelspec": {
   "display_name": "base",
   "language": "python",
   "name": "python3"
  },
  "language_info": {
   "codemirror_mode": {
    "name": "ipython",
    "version": 3
   },
   "file_extension": ".py",
   "mimetype": "text/x-python",
   "name": "python",
   "nbconvert_exporter": "python",
   "pygments_lexer": "ipython3",
   "version": "3.9.7"
  }
 },
 "nbformat": 4,
 "nbformat_minor": 2
}
