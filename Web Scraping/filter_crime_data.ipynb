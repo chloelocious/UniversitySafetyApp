{
 "cells": [
  {
   "cell_type": "code",
   "execution_count": 6,
   "metadata": {},
   "outputs": [
    {
     "name": "stdout",
     "output_type": "stream",
     "text": [
      "Processed: filtered_geocoded_Residencehallarrest202122.csv\n",
      "Processed: filtered_geocoded_Noncampuscrime202122.csv\n",
      "Processed: filtered_geocoded_Residencehallcrime202122.csv\n",
      "Processed: filtered_geocoded_Noncampusarrest202122.csv\n",
      "Processed: filtered_geocoded_Reportedcrime202122.csv\n",
      "Processed: filtered_geocoded_Reportedarrest202122.csv\n",
      "Processed: filtered_geocoded_Publicpropertyarrest202122.csv\n",
      "Processed: filtered_geocoded_Publicpropertycrime202122.csv\n",
      "Processed: filtered_geocoded_Oncampuscrime202122.csv\n",
      "Processed: filtered_geocoded_Oncampusarrest202122.csv\n",
      "Processing completed.\n"
     ]
    }
   ],
   "source": [
    "import os\n",
    "import pandas as pd\n",
    "\n",
    "# Directory where your files are located\n",
    "directory = '/Users/chloelocious/Documents/GitHub/DataPython9588/UniversitySafetyApp/Crime2023EXCEL'\n",
    "file_prefix = 'geocoded'\n",
    "\n",
    "# Function to check if a file starts with the given prefix and is a CSV file\n",
    "def is_geocoded_file(file_name, prefix):\n",
    "    return file_name.startswith(prefix) and file_name.endswith('.csv')\n",
    "\n",
    "# List all files in the directory that start with the prefix\n",
    "geocoded_files = [file for file in os.listdir(directory) if is_geocoded_file(file, file_prefix)]\n",
    "\n",
    "# Process each file: make a copy and remove rows without latitude or longitude\n",
    "for file in geocoded_files:\n",
    "    file_path = os.path.join(directory, file)\n",
    "    \n",
    "    # Load the CSV file\n",
    "    df = pd.read_csv(file_path)\n",
    "    \n",
    "    # Check if 'latitude' and 'longitude' columns exist\n",
    "    if 'Latitude' in df.columns and 'Longitude' in df.columns:\n",
    "        # Filter out rows without latitude or longitude\n",
    "        filtered_df = df.dropna(subset=['Latitude', 'Longitude'])\n",
    "        \n",
    "        # Save the filtered data to a new file with 'filtered' appended to its name\n",
    "        new_file_name = f\"filtered_{file}\"\n",
    "        new_file_path = os.path.join(directory, new_file_name)\n",
    "        filtered_df.to_csv(new_file_path, index=False)\n",
    "        print(f\"Processed: {new_file_name}\")\n",
    "    else:\n",
    "        print(f\"Skipped: {file} (No latitude/longitude columns)\")\n",
    "\n",
    "print(\"Processing completed.\")\n"
   ]
  }
 ],
 "metadata": {
  "kernelspec": {
   "display_name": ".venv",
   "language": "python",
   "name": "python3"
  },
  "language_info": {
   "codemirror_mode": {
    "name": "ipython",
    "version": 3
   },
   "file_extension": ".py",
   "mimetype": "text/x-python",
   "name": "python",
   "nbconvert_exporter": "python",
   "pygments_lexer": "ipython3",
   "version": "3.12.3"
  }
 },
 "nbformat": 4,
 "nbformat_minor": 2
}
